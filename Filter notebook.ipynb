{
 "cells": [
  {
   "cell_type": "code",
   "execution_count": 6,
   "metadata": {
    "collapsed": true
   },
   "outputs": [],
   "source": [
    "import pandas as pd\n",
    "import numpy as np"
   ]
  },
  {
   "cell_type": "code",
   "execution_count": 3,
   "metadata": {
    "collapsed": false
   },
   "outputs": [
    {
     "data": {
      "text/html": [
       "<div style=\"max-height:1000px;max-width:1500px;overflow:auto;\">\n",
       "<table border=\"1\" class=\"dataframe\">\n",
       "  <thead>\n",
       "    <tr style=\"text-align: right;\">\n",
       "      <th></th>\n",
       "      <th>school_state</th>\n",
       "      <th>resource_type</th>\n",
       "      <th>poverty_level</th>\n",
       "      <th>total_donations</th>\n",
       "      <th>funding_status</th>\n",
       "      <th>date_posted</th>\n",
       "    </tr>\n",
       "  </thead>\n",
       "  <tbody>\n",
       "    <tr>\n",
       "      <th>0</th>\n",
       "      <td> NY</td>\n",
       "      <td> Supplies</td>\n",
       "      <td>  highest poverty</td>\n",
       "      <td> 251</td>\n",
       "      <td> completed</td>\n",
       "      <td> 2002-09-13 00:00:00</td>\n",
       "    </tr>\n",
       "    <tr>\n",
       "      <th>1</th>\n",
       "      <td> NY</td>\n",
       "      <td> Supplies</td>\n",
       "      <td> moderate poverty</td>\n",
       "      <td> 125</td>\n",
       "      <td> completed</td>\n",
       "      <td> 2002-09-16 00:00:00</td>\n",
       "    </tr>\n",
       "  </tbody>\n",
       "</table>\n",
       "</div>"
      ],
      "text/plain": [
       "  school_state resource_type     poverty_level  total_donations  \\\n",
       "0           NY      Supplies   highest poverty              251   \n",
       "1           NY      Supplies  moderate poverty              125   \n",
       "\n",
       "  funding_status          date_posted  \n",
       "0      completed  2002-09-13 00:00:00  \n",
       "1      completed  2002-09-16 00:00:00  "
      ]
     },
     "execution_count": 3,
     "metadata": {},
     "output_type": "execute_result"
    }
   ],
   "source": [
    "# Original data available at https://s3.amazonaws.com/open_data/csv/opendata_projects.zip.\n",
    "filename = \"C:\\Users\\Chris\\Documents\\Programming\\Mongo\\opendata_projects/opendata_projects.csv\"\n",
    "\n",
    "# Only load in the relevant columns.\n",
    "cols = [\"school_state\", \"resource_type\", \"poverty_level\", \"date_posted\", \"total_donations\", \"funding_status\"]\n",
    "df = pd.read_csv(filename, header=0, usecols=cols)\n",
    "df.head(2)"
   ]
  },
  {
   "cell_type": "code",
   "execution_count": 4,
   "metadata": {
    "collapsed": false
   },
   "outputs": [
    {
     "data": {
      "text/plain": [
       "(878852, 6)"
      ]
     },
     "execution_count": 4,
     "metadata": {},
     "output_type": "execute_result"
    }
   ],
   "source": [
    "df.shape"
   ]
  },
  {
   "cell_type": "code",
   "execution_count": 11,
   "metadata": {
    "collapsed": false
   },
   "outputs": [],
   "source": [
    "# Take a random subset of the data.\n",
    "rows = np.random.choice(df.index.values, 10000)\n",
    "sampled_df = df.ix[rows]"
   ]
  },
  {
   "cell_type": "code",
   "execution_count": 12,
   "metadata": {
    "collapsed": false
   },
   "outputs": [],
   "source": [
    "sampled_df.to_csv(\"static/data/donations.csv\")"
   ]
  },
  {
   "cell_type": "code",
   "execution_count": null,
   "metadata": {
    "collapsed": true
   },
   "outputs": [],
   "source": []
  }
 ],
 "metadata": {
  "kernelspec": {
   "display_name": "Python 2",
   "language": "python",
   "name": "python2"
  },
  "language_info": {
   "codemirror_mode": {
    "name": "ipython",
    "version": 2
   },
   "file_extension": ".py",
   "mimetype": "text/x-python",
   "name": "python",
   "nbconvert_exporter": "python",
   "pygments_lexer": "ipython2",
   "version": "2.7.9"
  }
 },
 "nbformat": 4,
 "nbformat_minor": 0
}
